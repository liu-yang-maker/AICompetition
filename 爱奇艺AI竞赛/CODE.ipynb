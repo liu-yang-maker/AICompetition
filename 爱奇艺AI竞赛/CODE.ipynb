{
 "cells": [
  {
   "cell_type": "markdown",
   "id": "4ca9c3e1",
   "metadata": {},
   "source": [
    "#### 用户的留存分是个充满挑战的难题，为了提升用户个性化的产品体验，更好地让用户享受定制化的娱乐服务，本次大赛用“N日留存分”这一关键指标来衡量用户的满意程度。"
   ]
  },
  {
   "cell_type": "markdown",
   "id": "45a5facd",
   "metadata": {},
   "source": [
    "#### 赛题描述\n",
    "\n",
    "爱奇艺是中国和世界领先的高品质视频娱乐流媒体平台，每个月有超过5亿的用户在爱奇艺上享受娱乐服务。爱奇艺秉承“悦享品质”的品牌口号，打造涵盖影剧、综艺、动漫在内的专业正版视频内容库，和“随刻”等海量的用户原创内容，为用户提供丰富的专业视频体验。\n",
    "\n",
    "爱奇艺手机端APP，通过深度学习等最新的AI技术，提升用户个性化的产品体验，更好地让用户享受定制化的娱乐服务。我们用“N日留存分”这一关键指标来衡量用户的满意程度。例如，如果一个用户10月1日的“7日留存分”等于3，代表这个用户接下来的7天里（10月2日~8日），有3天会访问爱奇艺APP。预测用户的留存分是个充满挑战的难题：不同用户本身的偏好、活跃度差异很大，另外用户可支配的娱乐时间、热门内容的流行趋势等其他因素，也有很强的周期性特征。"
   ]
  },
  {
   "cell_type": "code",
   "execution_count": 1,
   "id": "97e3c63f",
   "metadata": {},
   "outputs": [],
   "source": [
    "# 先做EDA 分析一下5张表格\n",
    "# 再做CTR 学习一下网上的教学"
   ]
  },
  {
   "cell_type": "code",
   "execution_count": null,
   "id": "65b2e4c0",
   "metadata": {},
   "outputs": [],
   "source": [
    "# 需要导入的package"
   ]
  },
  {
   "cell_type": "code",
   "execution_count": 1,
   "id": "e6e0a8a8",
   "metadata": {},
   "outputs": [],
   "source": [
    "# User portrait data\n",
    "import pandas as pd"
   ]
  },
  {
   "cell_type": "code",
   "execution_count": null,
   "id": "838ff864",
   "metadata": {},
   "outputs": [],
   "source": []
  },
  {
   "cell_type": "code",
   "execution_count": null,
   "id": "1fc6d174",
   "metadata": {},
   "outputs": [],
   "source": []
  },
  {
   "cell_type": "code",
   "execution_count": null,
   "id": "7a083bbc",
   "metadata": {},
   "outputs": [],
   "source": []
  },
  {
   "cell_type": "code",
   "execution_count": null,
   "id": "836ea9c8",
   "metadata": {},
   "outputs": [],
   "source": []
  },
  {
   "cell_type": "code",
   "execution_count": null,
   "id": "9b8d1a0e",
   "metadata": {},
   "outputs": [],
   "source": []
  }
 ],
 "metadata": {
  "kernelspec": {
   "display_name": "Python 3 (ipykernel)",
   "language": "python",
   "name": "python3"
  },
  "language_info": {
   "codemirror_mode": {
    "name": "ipython",
    "version": 3
   },
   "file_extension": ".py",
   "mimetype": "text/x-python",
   "name": "python",
   "nbconvert_exporter": "python",
   "pygments_lexer": "ipython3",
   "version": "3.9.7"
  }
 },
 "nbformat": 4,
 "nbformat_minor": 5
}
